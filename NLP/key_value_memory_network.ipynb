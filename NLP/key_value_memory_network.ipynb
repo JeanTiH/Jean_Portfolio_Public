{
  "cells": [
    {
      "cell_type": "markdown",
      "metadata": {
        "id": "yhZzhjGaTj9P"
      },
      "source": [
        "# Introduction\n",
        "\n",
        "This project, based on **OMSCS7650 Natural Language Processing**, explores the attention mechanism in a **question-answering (QA) task**, comparing **multihot** and **GloVe** implementations using a **Key-Value Memory Network (KVMemNet)**.\n",
        "\n",
        "Unlike traditional Knowledge Bases, KVMemNet learns to access an external memory store—organized as keys and values—without encoding all information directly into the model parameters, allowing updates without retraining.\n",
        "Given a question, the model computes similarity between the question and memory keys, applies an attention-scoring mechanism to select relevant keys, and uses the corresponding values to predict the answer. This single-hop design supports end-to-end learning and illustrates self-attention concepts without the full complexity of transformers."
      ]
    },
    {
      "cell_type": "markdown",
      "source": [
        "# Disclaimer\n",
        "\n",
        "The code preceding Step 2 is adapted and modified from **OMSCS7650: Natural Language Processing**."
      ],
      "metadata": {
        "id": "qCK9KPN4cqUs"
      }
    },
    {
      "cell_type": "markdown",
      "metadata": {
        "id": "XLQP14bxNXDx"
      },
      "source": [
        "# Libraries\n",
        "\n"
      ]
    },
    {
      "cell_type": "code",
      "execution_count": 1,
      "metadata": {
        "colab": {
          "base_uri": "https://localhost:8080/"
        },
        "id": "JfnqkHKkITC3",
        "outputId": "23b32aeb-6c86-4a25-d7bb-9adbbbb42245"
      },
      "outputs": [
        {
          "output_type": "stream",
          "name": "stdout",
          "text": [
            "Collecting unidecode\n",
            "  Downloading Unidecode-1.4.0-py3-none-any.whl.metadata (13 kB)\n",
            "Downloading Unidecode-1.4.0-py3-none-any.whl (235 kB)\n",
            "\u001b[2K   \u001b[90m━━━━━━━━━━━━━━━━━━━━━━━━━━━━━━━━━━━━━━━━\u001b[0m \u001b[32m235.8/235.8 kB\u001b[0m \u001b[31m4.1 MB/s\u001b[0m eta \u001b[36m0:00:00\u001b[0m\n",
            "\u001b[?25hInstalling collected packages: unidecode\n",
            "Successfully installed unidecode-1.4.0\n"
          ]
        }
      ],
      "source": [
        "!pip install unidecode\n",
        "import unidecode\n",
        "\n",
        "import torch\n",
        "import torch.nn as nn\n",
        "from torch import optim\n",
        "import torch.nn.functional as F\n",
        "import re\n",
        "import os\n",
        "import json\n",
        "import random\n",
        "import numpy as np\n",
        "import pickle\n",
        "from tqdm import tqdm\n",
        "import nltk\n",
        "from nltk.corpus import stopwords\n",
        "import matplotlib.pyplot as plt\n",
        "from math import ceil\n",
        "import time\n",
        "from collections import Counter, defaultdict\n",
        "from sklearn.model_selection import train_test_split\n",
        "from torch.utils.data import Dataset, DataLoader\n",
        "from torch.nn.utils.rnn import pad_sequence\n",
        "from IPython.display import display, HTML\n",
        "\n",
        "'''\n",
        "The file private_models contains KVMemNet model implementations used in this project.\n",
        "\n",
        "For academic integrity, it is not included in this repository because the course\n",
        "OMSCS 7650: Natural Language Processing may still use this topic for assignments.\n",
        "\n",
        "Upon request for demonstration for employment or other legitimate purposes,\n",
        "the author may provide it privately.\n",
        "'''\n",
        "\n",
        "from private_models import PrivateModels"
      ]
    },
    {
      "cell_type": "code",
      "execution_count": 2,
      "metadata": {
        "colab": {
          "base_uri": "https://localhost:8080/",
          "height": 35
        },
        "id": "AviW7dfn6pUi",
        "outputId": "ce835341-b6d4-4c67-c4c2-3564aad3e6ad"
      },
      "outputs": [
        {
          "output_type": "execute_result",
          "data": {
            "text/plain": [
              "'cpu'"
            ],
            "application/vnd.google.colaboratory.intrinsic+json": {
              "type": "string"
            }
          },
          "metadata": {},
          "execution_count": 2
        }
      ],
      "source": [
        "device = 'cuda' if torch.cuda.is_available() else 'cpu'\n",
        "device"
      ]
    },
    {
      "cell_type": "markdown",
      "metadata": {
        "id": "Sl6J8BwVpHCw"
      },
      "source": [
        "# Pre-process Functions on Raw Data"
      ]
    },
    {
      "cell_type": "code",
      "execution_count": 3,
      "metadata": {
        "id": "CPwG_8VrNUop"
      },
      "outputs": [],
      "source": [
        "# Stemming\n",
        "def simple_stemmer(text):\n",
        "    ps=nltk.porter.PorterStemmer()\n",
        "    text= [ps.stem(word) for word in text]\n",
        "    return text"
      ]
    },
    {
      "cell_type": "code",
      "execution_count": 4,
      "metadata": {
        "id": "eEofSDrQ9fg_"
      },
      "outputs": [],
      "source": [
        "# Tokenization (keep letters and numbers)\n",
        "def tokenize(line):\n",
        "    line = re.sub(r'[^a-zA-Z0-9]', ' ', unidecode.unidecode(line))\n",
        "    line = line.lower().split()\n",
        "    return line"
      ]
    },
    {
      "cell_type": "code",
      "execution_count": 5,
      "metadata": {
        "id": "25siAXsXOJj9"
      },
      "outputs": [],
      "source": [
        "# Standard vocabulary object class\n",
        "class Vocab:\n",
        "    def __init__(self, name = 'vocab'):\n",
        "        self.name = name\n",
        "        self._word2index = {}\n",
        "        self._word2count = {}\n",
        "        self._index2word = {}\n",
        "        self._n_words = 0\n",
        "        self.add_word(UNK)\n",
        "\n",
        "    def get_words(self):\n",
        "      return list(self._word2count.keys())\n",
        "\n",
        "    def num_words(self):\n",
        "      return self._n_words\n",
        "\n",
        "    def word2index(self, word):\n",
        "      return self._word2index.get(word, UNK_ID)\n",
        "\n",
        "    def index2word(self, index):\n",
        "      return self._index2word.get(index, UNK)\n",
        "\n",
        "    def word2count(self, word):\n",
        "      return self._word2count.get(word, 0)\n",
        "\n",
        "    def add_sentence(self, sentence):\n",
        "        for word in tokenize(sentence):\n",
        "            self.add_word(word)\n",
        "\n",
        "    def add_word(self, word):\n",
        "        if word not in self._word2index:\n",
        "            self._word2index[word] = self._n_words\n",
        "            self._word2count[word] = 1\n",
        "            self._index2word[self._n_words] = word\n",
        "            self._n_words += 1\n",
        "        else:\n",
        "            self._word2count[word] += 1"
      ]
    },
    {
      "cell_type": "code",
      "execution_count": 6,
      "metadata": {
        "id": "oKJP2y8g-TFE"
      },
      "outputs": [],
      "source": [
        "# Multihot: Make a bag of words from a sentence (s), given a vocabulary (vocab)\n",
        "# Either return a bag of word counts or a bag of word presences.\n",
        "def multihot(s, vocab, preserve_counts = False):\n",
        "  tokens = np.array([vocab.word2index(t) for t in tokenize(s)])\n",
        "  mhot = np.zeros((tokens.size, vocab.num_words()))\n",
        "  mhot[np.arange(tokens.size), tokens] = 1\n",
        "  if preserve_counts:\n",
        "    return mhot.sum(0)\n",
        "  else:\n",
        "    return mhot.sum(0) >= 1"
      ]
    },
    {
      "cell_type": "code",
      "execution_count": 7,
      "metadata": {
        "id": "4Edhwwcg6s42"
      },
      "outputs": [],
      "source": [
        "# For vocabulary, create an unknown \"unk\" token with token index in the vocabulary (UNK_ID).\n",
        "UNK = 'unk'\n",
        "UNK_ID = 0"
      ]
    },
    {
      "cell_type": "markdown",
      "metadata": {
        "id": "YHZm-bAanrrf"
      },
      "source": [
        "# Step 1: Download & Process Data"
      ]
    },
    {
      "cell_type": "markdown",
      "metadata": {
        "id": "u-L61V7tVPok"
      },
      "source": [
        "Data link: https://github.com/DavidGrangier/wikipedia-biography-dataset\n",
        "\n",
        "The raw data contains the information in tables that are commonly used in Wikipedia biography pages. Each entity (i.e., each person) has different rows of information and details.\n",
        "\n",
        "For example, [Alexander Hamilton](https://en.wikipedia.org/wiki/Alexander_Hamilton) has information about birth date, death date, spouse, political party, etc, which are the **keys**. The value of a key like **birth date** is the specific value like **11 january 1755**. **keys** are also called **relations** in this project.\n",
        "\n",
        "After pre-processing, two things are created from the raw data:\n",
        "- **`DB`**: a hash table that map titles of biography wikipedia articles to table information. The table information is represented as a nested hash table containing relations as keys, and associated values. For example, \\\n",
        "`DB['alexander hamilton'] = {'birth_date': '11 january 1755','party': 'federalist', ...}`\n",
        "\n",
        "- **`VOCAB`**: A vocabulary object that maps words to tokens and vice versa."
      ]
    },
    {
      "cell_type": "code",
      "execution_count": 8,
      "metadata": {
        "colab": {
          "base_uri": "https://localhost:8080/"
        },
        "id": "PYzcdAR2ntvm",
        "outputId": "0a92ca89-0426-496a-eefa-0ce0f92fbcba"
      },
      "outputs": [
        {
          "output_type": "stream",
          "name": "stdout",
          "text": [
            "Cloning into 'wikipedia-biography-dataset'...\n",
            "remote: Enumerating objects: 93, done.\u001b[K\n",
            "remote: Total 93 (delta 0), reused 0 (delta 0), pack-reused 93 (from 1)\u001b[K\n",
            "Receiving objects: 100% (93/93), 338.68 MiB | 25.98 MiB/s, done.\n",
            "Resolving deltas: 100% (43/43), done.\n",
            "Updating files: 100% (19/19), done.\n"
          ]
        }
      ],
      "source": [
        "!git clone https://github.com/rlebret/wikipedia-biography-dataset.git"
      ]
    },
    {
      "cell_type": "code",
      "execution_count": 9,
      "metadata": {
        "colab": {
          "base_uri": "https://localhost:8080/"
        },
        "id": "RZEHbtftn17L",
        "outputId": "0d086325-f38a-4bcd-b3ac-5eef674d0069"
      },
      "outputs": [
        {
          "output_type": "stream",
          "name": "stdout",
          "text": [
            "Archive:  tmp.zip\n",
            "   creating: wikipedia-biography-dataset/test/\n",
            "  inflating: wikipedia-biography-dataset/test/test.box  \n",
            "  inflating: wikipedia-biography-dataset/test/test.id  \n",
            "  inflating: wikipedia-biography-dataset/test/test.nb  \n",
            "  inflating: wikipedia-biography-dataset/test/test.sent  \n",
            "  inflating: wikipedia-biography-dataset/test/test.url  \n",
            "  inflating: wikipedia-biography-dataset/test/test.contributors  \n",
            "  inflating: wikipedia-biography-dataset/test/test.title  \n",
            "   creating: wikipedia-biography-dataset/train/\n",
            "  inflating: wikipedia-biography-dataset/train/train.box  \n",
            "  inflating: wikipedia-biography-dataset/train/train.id  \n",
            "  inflating: wikipedia-biography-dataset/train/train.nb  \n",
            "  inflating: wikipedia-biography-dataset/train/train.sent  \n",
            "  inflating: wikipedia-biography-dataset/train/train.url  \n",
            "  inflating: wikipedia-biography-dataset/train/train.contributors  \n",
            "  inflating: wikipedia-biography-dataset/train/train.title  \n",
            "   creating: wikipedia-biography-dataset/valid/\n",
            "  inflating: wikipedia-biography-dataset/valid/valid.box  \n",
            "  inflating: wikipedia-biography-dataset/valid/valid.id  \n",
            "  inflating: wikipedia-biography-dataset/valid/valid.nb  \n",
            "  inflating: wikipedia-biography-dataset/valid/valid.sent  \n",
            "  inflating: wikipedia-biography-dataset/valid/valid.url  \n",
            "  inflating: wikipedia-biography-dataset/valid/valid.contributors  \n",
            "  inflating: wikipedia-biography-dataset/valid/valid.title  \n",
            "  inflating: wikipedia-biography-dataset/LICENSE.txt  \n",
            "  inflating: wikipedia-biography-dataset/.DS_Store  \n",
            "  inflating: wikipedia-biography-dataset/._.DS_Store  \n",
            "  inflating: wikipedia-biography-dataset/README.txt  \n"
          ]
        }
      ],
      "source": [
        "# Decompressing zip files\n",
        "!cat wikipedia-biography-dataset/wikipedia-biography-dataset.z?? > tmp.zip\n",
        "!unzip -o tmp.zip\n",
        "!rm tmp.zip"
      ]
    },
    {
      "cell_type": "code",
      "execution_count": 10,
      "metadata": {
        "id": "zhdWH8jnBbJg"
      },
      "outputs": [],
      "source": [
        "# Clean titles\n",
        "def clean_title(title):\n",
        "    title = re.sub(r'-lrb-.*?-rrb-', '', title, flags=re.IGNORECASE)\n",
        "    title = re.sub(r'\\s+([,.])', r'\\1', title)  # Remove space before punctuation\n",
        "    title = re.sub(r'\\.\\s*\\.', '.', title)      # Replace \". .\" with \".\"\n",
        "    title = re.sub(r'\\s+', ' ', title)          # Normalize spaces\n",
        "\n",
        "    # Keep only the part before the first comma\n",
        "    if ',' in title:\n",
        "        title = title.split(',')[0].strip()\n",
        "\n",
        "    return title\n",
        "\n",
        "# Get wikipedia titles (cleaned)\n",
        "train_titles = []\n",
        "with open(\"wikipedia-biography-dataset/train/train.title\", \"r\") as file:\n",
        "    for line in file:\n",
        "        cleaned = clean_title(line.rstrip())\n",
        "        train_titles.append(cleaned)"
      ]
    },
    {
      "cell_type": "code",
      "execution_count": 11,
      "metadata": {
        "id": "C80pu63x4o-Y"
      },
      "outputs": [],
      "source": [
        "# Get boxes, which contain all the information - each line corresponds to a wikipedia title.\n",
        "train_boxes = []\n",
        "with open(\"wikipedia-biography-dataset/train/train.box\", \"r\") as file:\n",
        "  for line in file:\n",
        "    train_boxes.append(line.rstrip())"
      ]
    },
    {
      "cell_type": "code",
      "execution_count": 12,
      "metadata": {
        "id": "Pr97KJLc4v7v"
      },
      "outputs": [],
      "source": [
        "# Only keeps the entities containing \"office\" key term\n",
        "# Make a dictionary of dictionaries\n",
        "def make_db(titles, boxes):\n",
        "  db = {} # The DB\n",
        "  # Iterate through titles\n",
        "  for i in tqdm(range(len(titles))):\n",
        "    box = boxes[i] # Grab the corresponding box information\n",
        "    d  = {} # Inner dictionary\n",
        "    # Build a dict for the ith entry\n",
        "    # grab each key:value pair\n",
        "    for pair in re.findall(r'([a-zA-Z_]+)[0-9]*\\:([\\w\\d]+)', box):\n",
        "      key, value = pair\n",
        "      # Do a bit of cleaning\n",
        "      key = key.strip()\n",
        "      value = value.strip()\n",
        "      # If the key contains the word image, we probably don't want to keep it\n",
        "      if 'image' not in key:\n",
        "        # The regex maintains underscores, strip those off\n",
        "        if key[-1] == '_':\n",
        "          key = key[:-1]\n",
        "        # Make a new entry in inner dictionary if we don't have one\n",
        "        if key not in d:\n",
        "          d[key] = value\n",
        "        # Keys with compound values are split up, which is annoying, so put them back together\n",
        "        else:\n",
        "          d[key] += ' ' + value\n",
        "    # If it has an office key, keep it.\n",
        "    if 'office' in d:\n",
        "      db[titles[i]] = d\n",
        "  return db"
      ]
    },
    {
      "cell_type": "code",
      "execution_count": 13,
      "metadata": {
        "id": "p13O5dcVvdZu"
      },
      "outputs": [],
      "source": [
        "# Build vocab from DB\n",
        "def make_vocab(DB):\n",
        "  # Make the vocab object\n",
        "  vocab = Vocab()\n",
        "  # Tokenize the data by converting the entire DB into a string\n",
        "  tokens = tokenize(str(DB))\n",
        "  # Iterate through all the tokens (tqdm provides a progress bar)\n",
        "  for t in tqdm(tokens):\n",
        "    vocab.add_word(t)\n",
        "  return vocab"
      ]
    },
    {
      "cell_type": "code",
      "execution_count": 14,
      "metadata": {
        "id": "448Ww-BFtBL3"
      },
      "outputs": [],
      "source": [
        "# Reduce vocabulary by discarding rare words\n",
        "def reduce_vocab(vocab, min_word_occurrence):\n",
        "  # make a new vocab\n",
        "  vocab2 = Vocab(\"top\")\n",
        "  # Add the UNK token\n",
        "  vocab2.add_word(UNK)\n",
        "  # Iterate through vocabulary\n",
        "  for w in list(vocab._word2count.keys()):\n",
        "    count = vocab._word2count[w]\n",
        "    idx = vocab._word2index[w]\n",
        "    # If the word count passes threshold, add it to the new vocabulary object\n",
        "    if count >= min_word_occurrence:\n",
        "      vocab2.add_word(w)\n",
        "      vocab2._word2count[w] = count\n",
        "  # Return the new vocabulary object\n",
        "  return vocab2"
      ]
    },
    {
      "cell_type": "code",
      "execution_count": 15,
      "metadata": {
        "colab": {
          "base_uri": "https://localhost:8080/"
        },
        "id": "cio_ZwncrGf0",
        "outputId": "bfa06f7a-4fd8-4a45-b651-fd1a53893cfd"
      },
      "outputs": [
        {
          "output_type": "stream",
          "name": "stderr",
          "text": [
            "100%|██████████| 582659/582659 [00:56<00:00, 10235.68it/s]\n"
          ]
        },
        {
          "output_type": "execute_result",
          "data": {
            "text/plain": [
              "40520"
            ]
          },
          "metadata": {},
          "execution_count": 15
        }
      ],
      "source": [
        "# Create DB\n",
        "DB = make_db(train_titles, train_boxes)\n",
        "len(DB)"
      ]
    },
    {
      "cell_type": "code",
      "execution_count": 16,
      "metadata": {
        "colab": {
          "base_uri": "https://localhost:8080/"
        },
        "id": "lc7oi3p54SOb",
        "outputId": "c7cadc90-b81a-4201-dd8d-d0d0eb08b465"
      },
      "outputs": [
        {
          "output_type": "stream",
          "name": "stderr",
          "text": [
            "100%|██████████| 2961869/2961869 [00:01<00:00, 1946947.74it/s]\n"
          ]
        },
        {
          "output_type": "execute_result",
          "data": {
            "text/plain": [
              "95897"
            ]
          },
          "metadata": {},
          "execution_count": 16
        }
      ],
      "source": [
        "# Create VOCAB\n",
        "VOCAB = make_vocab(DB)\n",
        "VOCAB.num_words()"
      ]
    },
    {
      "cell_type": "code",
      "source": [
        "from google.colab import drive\n",
        "drive.mount('/content/drive')"
      ],
      "metadata": {
        "colab": {
          "base_uri": "https://localhost:8080/"
        },
        "id": "NnUnFb6Dn5lW",
        "outputId": "39392ce9-e12e-4c81-e57a-cdf5e79c66f1"
      },
      "execution_count": 17,
      "outputs": [
        {
          "output_type": "stream",
          "name": "stdout",
          "text": [
            "Mounted at /content/drive\n"
          ]
        }
      ]
    },
    {
      "cell_type": "code",
      "execution_count": 18,
      "metadata": {
        "id": "6DNxueU-gpz_"
      },
      "outputs": [],
      "source": [
        "# Save DB & VOCAB to drive\n",
        "with open(\"drive/MyDrive/NLP/DB\", \"wb\") as f:\n",
        "  pickle.dump(DB, f, protocol=None, fix_imports=True, buffer_callback=None)\n",
        "\n",
        "with open('drive/MyDrive/NLP/VOCAB', 'wb') as f:\n",
        "    pickle.dump(VOCAB, f, protocol=None, fix_imports=True, buffer_callback=None)"
      ]
    },
    {
      "cell_type": "code",
      "execution_count": 19,
      "metadata": {
        "id": "ZCaiBhdvCa_C"
      },
      "outputs": [],
      "source": [
        "# Load DB & VOCAB\n",
        "with open(\"drive/MyDrive/NLP/DB\", \"rb\") as f:\n",
        "  DB = pickle.load(f)\n",
        "\n",
        "with open(\"drive/MyDrive/NLP/VOCAB\", \"rb\") as f:\n",
        "  VOCAB = pickle.load(f)"
      ]
    },
    {
      "cell_type": "code",
      "execution_count": 20,
      "metadata": {
        "colab": {
          "base_uri": "https://localhost:8080/"
        },
        "id": "dbLkOyB2pp_M",
        "outputId": "478f3b6a-8bff-4c1b-9584-f02cf0cfd3d9"
      },
      "outputs": [
        {
          "output_type": "execute_result",
          "data": {
            "text/plain": [
              "{'name': 'chris watson',\n",
              " 'order': '3rd prime minister of australia elections 1903 1906',\n",
              " 'term_start': '27 april 1904 27 april 1904 20 may 1901 18 august 1904 8 november 1906 30 march 1901',\n",
              " 'term_end': '18 august 1904 17 august 1904 30 october 1907 5 july 1905 13 april 1910 12 december 1906',\n",
              " 'monarch': 'edward vii',\n",
              " 'predecessor': 'alfred deakin sir george turner george reid george edwards constituency created',\n",
              " 'successor': 'george reid sir george turner andrew fisher george reid edward riley constituency abolished',\n",
              " 'office': 'treasurer of australia 1st leader of the labor party leader of the opposition member of the australian parliament for south sydney member of the australian parliament for bland',\n",
              " 'primeminister': 'chris watson',\n",
              " 'deputy': 'gregor mcgregor',\n",
              " 'birth_name': 'john christian tanck',\n",
              " 'birth_date': 'c 9 april 1867',\n",
              " 'birth_place': 'valparaíso chile',\n",
              " 'death_date': '18 november 1941',\n",
              " 'death_place': 'sydney new south wales australia',\n",
              " 'party': 'australian labour party',\n",
              " 'spouse': 'ada watson died 1921 antonia mary gladys watson married 1925 aged 23',\n",
              " 'children': 'jacqueline born 1925',\n",
              " 'religion': 'unitarianism',\n",
              " 'article_title': 'chris watson'}"
            ]
          },
          "metadata": {},
          "execution_count": 20
        }
      ],
      "source": [
        "# Examine the entry in DB\n",
        "DB['chris watson']"
      ]
    },
    {
      "cell_type": "markdown",
      "metadata": {
        "id": "ITACHJTWfE5m"
      },
      "source": [
        "# Step 2: Build Key-Value Memory Network"
      ]
    },
    {
      "cell_type": "markdown",
      "metadata": {
        "id": "xQqLE-fcI_43"
      },
      "source": [
        "**Question Answering (QA)** systems have traditionally relied on structured **Knowledge Bases (KBs)** like Freebase to retrieve answers, as their schema-driven organization makes logical queries tractable.\n",
        "\n",
        "However, KBs are inherently incomplete and rigid to handle the richness and diversity of information found in natural text sources like Wikipedia. As a result, there's growing interest in designing models capable of reading unstructured documents directly and answering questions from them.\n",
        "\n",
        "\n",
        "To tackle this challenge, the **Key-Value Memory Network (KVMemNet) model** was introduced. It enhances the original Memory Network by separating the addressing and reading phases using distinct **key-value representations**. In this architecture, both the question and memory slots (facts) are represented as bag-of-words and embedded into a shared vector space. Keys help match the question to relevant memory slots, while values provide the corresponding answer representations.\n",
        "\n",
        "The KVMemNet performs a soft attention mechanism over the keys to compute relevance scores, then uses these scores to produce a weighted sum of the values—yielding a final feature vector that leads to the predicted answer. Unlike rigid KB queries, this approach supports neural reasoning over text, enabling end-to-end learning with standard backpropagation. It also generalizes to multi-hop reasoning, where the model refines its internal query vector through repeated attention rounds.\n",
        "\n",
        "This project focuses on implementing a single-hop version of KVMemNet, where a question is matched to the best key, and the corresponding value is used to form the prediction. The design is well-suited for tasks where symbolic queries over structured KBs are not feasible, and the goal is to extract information from raw, potentially noisy, textual inputs.\n",
        "\n",
        "Key-value memory networks are described in this [paper](https://arxiv.org/abs/1606.03126)."
      ]
    },
    {
      "cell_type": "code",
      "source": [
        "'''\n",
        "KVMemNet model is defined in private_models.PrivateModels for this project.\n",
        "The implementation is hidden for academic integrity.\n",
        "'''\n",
        "KVMemNet = PrivateModels.KVMemNet"
      ],
      "metadata": {
        "id": "ejgju6h67pHs"
      },
      "execution_count": 21,
      "outputs": []
    },
    {
      "cell_type": "markdown",
      "metadata": {
        "id": "nupd-Gr9P6vc"
      },
      "source": [
        "# Step 3: Training and Testing Datasets"
      ]
    },
    {
      "cell_type": "code",
      "execution_count": 22,
      "metadata": {
        "colab": {
          "base_uri": "https://localhost:8080/"
        },
        "id": "Ho_WoQJqPjYK",
        "outputId": "7a7c304e-10f3-4599-fe3f-1cab6111638e"
      },
      "outputs": [
        {
          "output_type": "stream",
          "name": "stdout",
          "text": [
            "Top 15 most common relation-frequency pairs:\n",
            "office: 40520\n",
            "article_title: 40520\n",
            "term_start: 36895\n",
            "birth_date: 35032\n",
            "birth_place: 31965\n",
            "term_end: 30915\n",
            "predecessor: 29415\n",
            "party: 28195\n",
            "successor: 25939\n",
            "alma_mater: 16212\n",
            "death_date: 15185\n",
            "spouse: 14961\n",
            "death_place: 12457\n",
            "nationality: 10715\n",
            "religion: 10475\n"
          ]
        }
      ],
      "source": [
        "# Examine the top-k most frequent relations in DB\n",
        "\n",
        "k = 15\n",
        "\n",
        "# Count all relation frequencies (excluding 'name')\n",
        "relation_cnt = Counter()\n",
        "for entry in DB.values():\n",
        "    relation_cnt.update(relation for relation in entry if relation != 'name')\n",
        "\n",
        "# Get top-k relation_frequency pair\n",
        "top_k_relation_freq = relation_cnt.most_common(k)\n",
        "\n",
        "print(f\"Top {k} most common relation-frequency pairs:\")\n",
        "for relation, frequency in top_k_relation_freq:\n",
        "    print(f\"{relation}: {frequency}\")\n",
        "\n",
        "#top_k_relations = set(relation for relation, frequency in top_k_relation_freq)"
      ]
    },
    {
      "cell_type": "markdown",
      "source": [
        "**Note**: To accommodate computational resource constraints, the training and testing datasets in this project have been trimmed and simplified. Specifically, only three of the top 15 most frequent keys are selected, and a total of 600 entities are used for training and evaluation."
      ],
      "metadata": {
        "id": "LnC6g8Vv8tRp"
      }
    },
    {
      "cell_type": "code",
      "execution_count": 23,
      "metadata": {
        "colab": {
          "base_uri": "https://localhost:8080/"
        },
        "id": "V6VEnB_VS7Px",
        "outputId": "e0261263-00e9-44c3-b64d-fea3316154ca"
      },
      "outputs": [
        {
          "output_type": "stream",
          "name": "stdout",
          "text": [
            "Number of entities (people) in trimmed_DB: 36338\n"
          ]
        }
      ],
      "source": [
        "# Create training and testing datasets\n",
        "select_keys = {'birth_date', 'death_date' , 'religion'}\n",
        "trimmed_DB = []\n",
        "name_to_index = {}\n",
        "name_list = []\n",
        "\n",
        "for name, content in DB.items():\n",
        "    person = []\n",
        "    for key, value in content.items():\n",
        "        if key in select_keys:\n",
        "            question = f\"{name} {key}\"              # question, or key\n",
        "            answer = f\"{name} {value}\"              # answer, or value\n",
        "            person.append([name, question, answer])\n",
        "    if person:\n",
        "        name_list.append(name)\n",
        "        name_to_index[name] = len(trimmed_DB)\n",
        "        trimmed_DB.append(person)\n",
        "\n",
        "print(f\"Number of entities (people) in trimmed_DB: {len(trimmed_DB)}\")\n",
        "\n",
        "train_data = trimmed_DB[:500]\n",
        "test_data = trimmed_DB[500:600]"
      ]
    },
    {
      "cell_type": "code",
      "execution_count": 24,
      "metadata": {
        "colab": {
          "base_uri": "https://localhost:8080/"
        },
        "id": "kx_NelGqfZBx",
        "outputId": "9064f9be-a4e8-4df5-9cbd-3371f4125e53"
      },
      "outputs": [
        {
          "output_type": "stream",
          "name": "stderr",
          "text": [
            "100%|██████████| 714238/714238 [00:00<00:00, 924264.68it/s] "
          ]
        },
        {
          "output_type": "stream",
          "name": "stdout",
          "text": [
            "\n",
            "Number of words in trimmed_VOCAB: 31558\n"
          ]
        },
        {
          "output_type": "stream",
          "name": "stderr",
          "text": [
            "\n"
          ]
        }
      ],
      "source": [
        "# Build trimmed_VOCAB based on trimmed_DB\n",
        "trimmed_VOCAB = make_vocab(trimmed_DB)\n",
        "print()\n",
        "print(f\"Number of words in trimmed_VOCAB: {trimmed_VOCAB.num_words()}\")"
      ]
    },
    {
      "cell_type": "code",
      "execution_count": 25,
      "metadata": {
        "colab": {
          "base_uri": "https://localhost:8080/"
        },
        "id": "cf78cNoXfiuM",
        "outputId": "df6bd353-9894-406b-8c48-6d0ea963b5b3"
      },
      "outputs": [
        {
          "output_type": "stream",
          "name": "stdout",
          "text": [
            "Number of words in reduced_VOCAB: 20069\n"
          ]
        }
      ],
      "source": [
        "# Further reduce trimmed_VOCAB by removing rare words\n",
        "reduced_VOCAB = reduce_vocab(trimmed_VOCAB, min_word_occurrence=5)\n",
        "print(f\"Number of words in reduced_VOCAB: {reduced_VOCAB.num_words()}\")"
      ]
    },
    {
      "cell_type": "markdown",
      "source": [
        "# Step 4: Apply Key-Value Memory Network on Data (DB) - Multihot"
      ],
      "metadata": {
        "id": "dNpKWjjk2GZM"
      }
    },
    {
      "cell_type": "markdown",
      "metadata": {
        "id": "MI3b5x2zfl8g"
      },
      "source": [
        "**Setup `KVMemNet`, Training, Testing**"
      ]
    },
    {
      "cell_type": "code",
      "execution_count": 26,
      "metadata": {
        "id": "OEKJ1KJxTBUJ"
      },
      "outputs": [],
      "source": [
        "# Set up Key-Value Memory Network\n",
        "vocab_size = reduced_VOCAB.num_words()\n",
        "embed_size = 128\n",
        "learning_rate = 0.01\n",
        "num_epochs = 15\n",
        "\n",
        "model = KVMemNet(vocab_size=vocab_size, embed_dim=embed_size).to(device)\n",
        "optimizer = optim.Adam(model.parameters(), lr=learning_rate)\n",
        "criterion = nn.CrossEntropyLoss()"
      ]
    },
    {
      "cell_type": "code",
      "execution_count": 27,
      "metadata": {
        "id": "RfGSuAbMossa"
      },
      "outputs": [],
      "source": [
        "# Training\n",
        "def train_KVMemNet(model, optimizer, criterion, train_data, num_epochs, device):\n",
        "    model.train()\n",
        "\n",
        "    epoch_losses = []\n",
        "    epoch_accuracies = []\n",
        "    epoch_times = []\n",
        "    for epoch in range(num_epochs):\n",
        "        start_time = time.time()\n",
        "        losses = []\n",
        "        correct_pred = 0\n",
        "        total_sample = 0\n",
        "        random.seed(epoch)\n",
        "\n",
        "        for people_index in range(len(train_data)):\n",
        "            batch_data = train_data[people_index]\n",
        "\n",
        "            # Add random data\n",
        "            random_person_1 = train_data[random.randint(0, len(train_data)-1)]\n",
        "            random_person_2 = train_data[random.randint(0, len(train_data)-1)]\n",
        "            concatenate = batch_data + random_person_1 + random_person_2\n",
        "\n",
        "            keys = [multihot(item[1], reduced_VOCAB) for item in concatenate]\n",
        "            values = [multihot(item[2], reduced_VOCAB) for item in concatenate]\n",
        "\n",
        "            keys = torch.stack([torch.tensor(k, dtype=torch.float32) for k in keys]).unsqueeze(0).to(device)\n",
        "            values = torch.stack([torch.tensor(v, dtype=torch.float32) for v in values]).unsqueeze(0).to(device)\n",
        "\n",
        "            y_embed = model.embedding_B(values.clone()).squeeze(0).detach()\n",
        "\n",
        "            for relation_index in range(len(batch_data)):\n",
        "                question = keys[0][relation_index].unsqueeze(0).to(device)\n",
        "\n",
        "                output = model(question, keys, values).squeeze(0)\n",
        "                attention_score = torch.nn.functional.softmax(torch.inner(y_embed, output), dim=0)\n",
        "\n",
        "                target_index = relation_index\n",
        "                predicted_index = torch.argmax(attention_score).item()\n",
        "\n",
        "                # Compute loss\n",
        "                target_tensor = torch.tensor([target_index], dtype=torch.long).to(device)\n",
        "                loss = criterion(attention_score.unsqueeze(0), target_tensor)  # unsqueeze to match shape: (1, num_keys)\n",
        "                losses.append(loss)\n",
        "\n",
        "                # Backprop & optimize\n",
        "                optimizer.zero_grad()\n",
        "                loss.backward()\n",
        "                optimizer.step()\n",
        "\n",
        "                # Accuracy tracking\n",
        "                if predicted_index == target_index:\n",
        "                    correct_pred += 1\n",
        "                total_sample += 1\n",
        "\n",
        "        end_time = time.time()\n",
        "        epoch_time = end_time - start_time\n",
        "        epoch_times.append(epoch_time)\n",
        "        # Compute each epoch accuracy, loss & stack for loss plot\n",
        "        epoch_loss = torch.stack(losses).mean().item()\n",
        "        epoch_accuracy = correct_pred / total_sample\n",
        "        print(f\"Epoch {epoch+1}/{num_epochs} Loss: {epoch_loss:.4f}, Accuracy: {epoch_accuracy*100:.2f}%, Runtime: {epoch_time:.2f} seconds\")\n",
        "        epoch_losses.append(epoch_loss)\n",
        "        epoch_accuracies.append(epoch_accuracy)\n",
        "\n",
        "    print(f\"Average Accuracy over {num_epochs} Epochs: {sum(epoch_accuracies)/len(epoch_accuracies)*100:.2f}%\")\n",
        "    print(f\"Average runtime over {num_epochs} Epochs: {sum(epoch_times)/len(epoch_times):.2f}s\")\n",
        "\n",
        "    # Loss plot\n",
        "    plt.figure()\n",
        "    plt.clf()\n",
        "    plt.xlabel(\"Epoch\")\n",
        "    plt.ylabel(\"Loss\")\n",
        "    plt.title(f\"Training Loss over {num_epochs} Epochs\")\n",
        "    plt.plot(epoch_losses)\n",
        "    plt.grid()\n",
        "    plt.show()"
      ]
    },
    {
      "cell_type": "code",
      "execution_count": 28,
      "metadata": {
        "colab": {
          "base_uri": "https://localhost:8080/",
          "height": 761
        },
        "id": "fZ6ZfR_moy59",
        "outputId": "13830a93-8747-48e1-ea4c-b4bf6f85cb13"
      },
      "outputs": [
        {
          "output_type": "stream",
          "name": "stdout",
          "text": [
            "Epoch 1/15 Loss: 1.6432, Accuracy: 55.10%, Runtime: 43.74 seconds\n",
            "Epoch 2/15 Loss: 1.4704, Accuracy: 93.27%, Runtime: 43.20 seconds\n",
            "Epoch 3/15 Loss: 1.2783, Accuracy: 94.78%, Runtime: 44.01 seconds\n",
            "Epoch 4/15 Loss: 1.1771, Accuracy: 96.06%, Runtime: 41.85 seconds\n",
            "Epoch 5/15 Loss: 1.1051, Accuracy: 97.45%, Runtime: 43.18 seconds\n",
            "Epoch 6/15 Loss: 1.0706, Accuracy: 98.26%, Runtime: 43.93 seconds\n",
            "Epoch 7/15 Loss: 1.0561, Accuracy: 96.98%, Runtime: 43.00 seconds\n",
            "Epoch 8/15 Loss: 1.0357, Accuracy: 97.33%, Runtime: 42.68 seconds\n",
            "Epoch 9/15 Loss: 1.0262, Accuracy: 97.33%, Runtime: 45.41 seconds\n",
            "Epoch 10/15 Loss: 1.0240, Accuracy: 98.38%, Runtime: 42.20 seconds\n",
            "Epoch 11/15 Loss: 1.0043, Accuracy: 98.38%, Runtime: 42.19 seconds\n",
            "Epoch 12/15 Loss: 1.0068, Accuracy: 97.91%, Runtime: 48.48 seconds\n",
            "Epoch 13/15 Loss: 0.9934, Accuracy: 97.80%, Runtime: 43.61 seconds\n",
            "Epoch 14/15 Loss: 0.9923, Accuracy: 97.56%, Runtime: 44.73 seconds\n",
            "Epoch 15/15 Loss: 0.9936, Accuracy: 98.38%, Runtime: 43.50 seconds\n",
            "Average Accuracy over 15 Epochs: 94.33%\n",
            "Average runtime over 15 Epochs: 43.71s\n"
          ]
        },
        {
          "output_type": "display_data",
          "data": {
            "text/plain": [
              "<Figure size 640x480 with 1 Axes>"
            ],
            "image/png": "[encoded data removed]"
          },
          "metadata": {}
        }
      ],
      "source": [
        "train_KVMemNet(model, optimizer, criterion, train_data, num_epochs, device)"
      ]
    },
    {
      "cell_type": "code",
      "execution_count": 29,
      "metadata": {
        "id": "ecGNHCNhTGxK"
      },
      "outputs": [],
      "source": [
        "# Testing\n",
        "def test_KVMemNet(model, test_data, device):\n",
        "    model.eval()\n",
        "\n",
        "    correct_pred = 0\n",
        "    total_sample = 0\n",
        "    random.seed(100)\n",
        "\n",
        "    for people_index in range(len(test_data)):\n",
        "        batch_data = test_data[people_index]\n",
        "\n",
        "        # Add random data\n",
        "        random_person_1 = test_data[random.randint(0, len(test_data)-1)]\n",
        "        random_person_2 = test_data[random.randint(0, len(test_data)-1)]\n",
        "        concatenate = batch_data + random_person_1 + random_person_2\n",
        "        #concatenate = batch_data\n",
        "\n",
        "        keys = [multihot(item[1], reduced_VOCAB) for item in concatenate]\n",
        "        values = [multihot(item[2], reduced_VOCAB) for item in concatenate]\n",
        "\n",
        "        keys = torch.stack([torch.tensor(k, dtype=torch.float32) for k in keys]).unsqueeze(0).to(device)\n",
        "        values = torch.stack([torch.tensor(v, dtype=torch.float32) for v in values]).unsqueeze(0).to(device)\n",
        "\n",
        "        with torch.no_grad():\n",
        "\n",
        "            y_embed = model.embedding_B(values.clone()).squeeze(0)\n",
        "\n",
        "            for relation_index in range(len(batch_data)):\n",
        "                question = keys[0][relation_index].unsqueeze(0).to(device)\n",
        "\n",
        "                output = model(question, keys, values).squeeze(0)\n",
        "                attention_score = torch.nn.functional.softmax(torch.inner(y_embed, output), dim=0)\n",
        "\n",
        "                target_index = relation_index\n",
        "                predicted_index = torch.argmax(attention_score).item()\n",
        "\n",
        "                # Accuracy tracking\n",
        "                if predicted_index == target_index:\n",
        "                    correct_pred += 1\n",
        "                total_sample += 1\n",
        "\n",
        "    # Test Accuracy\n",
        "    accuracy = correct_pred / total_sample\n",
        "    print(f\"Test Accuracy: {accuracy*100:.2f}%\")\n",
        "    return accuracy*100"
      ]
    },
    {
      "cell_type": "code",
      "execution_count": 30,
      "metadata": {
        "colab": {
          "base_uri": "https://localhost:8080/"
        },
        "id": "dfdFeh8EE-OU",
        "outputId": "2c4d4f15-41e8-44fe-8f73-c3e7a84ea795"
      },
      "outputs": [
        {
          "output_type": "stream",
          "name": "stdout",
          "text": [
            "Test Accuracy: 73.37%\n"
          ]
        }
      ],
      "source": [
        "acc_multihot = test_KVMemNet(model, test_data, device)"
      ]
    },
    {
      "cell_type": "code",
      "execution_count": 31,
      "metadata": {
        "id": "DpPk82WT4u8v"
      },
      "outputs": [],
      "source": [
        "# Save trained model to Google Drive\n",
        "# https://docs.pytorch.org/tutorials/beginner/basics/saveloadrun_tutorial.html\n",
        "torch.save(model.state_dict(), \"/content/drive/MyDrive/NLP/KVMemNet.pth\")"
      ]
    },
    {
      "cell_type": "markdown",
      "metadata": {
        "id": "lRCn-LZmMNCp"
      },
      "source": [
        "# Step 5: Evaluate Model Results with QA Function - Multihot\n",
        "\n",
        "Given a natural language question:\n",
        "1. Convert the question into a bag-of-words vector using the shared vocabulary.\n",
        "2. Select a set of relevant (key, value) memory pairs from the database to serve as context.\n",
        "3. Feed the question and the memory pairs into the trained KVMemNet model.\n",
        "4. Obtain an output vector from the model and use it to compute attention scores over the values.\n",
        "5. Select the value with the highest attention score.\n",
        "6. Return the original string form of that value as the model’s answer.\n",
        "This final output should match the natural language answer to the question.\n",
        "\n",
        "**Note** The natural language answer returned by the QA function includes the person's name, which is also present in the original question. This is a result of the way the input dataset was constructed.\n",
        "\n",
        "Because of this structure, evaluating the model’s output is straightforward:\n",
        "- If the name in the model's answer does not match the name in the question, the answer is **definitively incorrect**."
      ]
    },
    {
      "cell_type": "code",
      "execution_count": 32,
      "metadata": {
        "colab": {
          "base_uri": "https://localhost:8080/"
        },
        "id": "lo9Wfvzd595Z",
        "outputId": "e6764a7f-1dab-41fa-ce5e-436a14298fd6"
      },
      "outputs": [
        {
          "output_type": "execute_result",
          "data": {
            "text/plain": [
              "<All keys matched successfully>"
            ]
          },
          "metadata": {},
          "execution_count": 32
        }
      ],
      "source": [
        "# Load trained model from Google Drive\n",
        "model.load_state_dict(torch.load(\"/content/drive/MyDrive/NLP/KVMemNet.pth\", map_location=device))"
      ]
    },
    {
      "cell_type": "code",
      "execution_count": 33,
      "metadata": {
        "id": "dylo1eEHbY_a"
      },
      "outputs": [],
      "source": [
        "# Create the Question-Answer (QA) function\n",
        "def QA(model, question_text, keys, values, concatanate, device):\n",
        "    model.eval()\n",
        "\n",
        "    question = multihot(question_text, reduced_VOCAB)\n",
        "    question_tensor = torch.tensor(question, dtype=torch.float32).unsqueeze(0).to(device)\n",
        "\n",
        "    keys_tensor = torch.stack([torch.tensor(k, dtype=torch.float32) for k in keys]).unsqueeze(0).to(device)\n",
        "    values_tensor = torch.stack([torch.tensor(v, dtype=torch.float32) for v in values]).unsqueeze(0).to(device)\n",
        "\n",
        "    with torch.no_grad():\n",
        "        y_embed = model.embedding_B(values_tensor).squeeze(0)\n",
        "        output = model(question_tensor, keys_tensor, values_tensor).squeeze(0)\n",
        "\n",
        "        attention_score = torch.nn.functional.softmax(torch.inner(y_embed, output), dim=0)\n",
        "        predicted_index = torch.argmax(attention_score).item()\n",
        "        return concatanate[predicted_index][2]"
      ]
    },
    {
      "cell_type": "markdown",
      "source": [
        "## **Analyses**: Following are 3 correct results (**Ex1**, **Ex3**, **Ex5** ) and 3 incorrect results (**EX2**, **Ex4**, **Ex6**)."
      ],
      "metadata": {
        "id": "drANg1RE_7L6"
      }
    },
    {
      "cell_type": "code",
      "execution_count": 34,
      "metadata": {
        "colab": {
          "base_uri": "https://localhost:8080/"
        },
        "id": "TioK9dtb-HP5",
        "outputId": "38f11eef-c292-49e7-de9a-4f7b9240c287"
      },
      "outputs": [
        {
          "output_type": "stream",
          "name": "stdout",
          "text": [
            "The question               : What was mara thompson's birth date?\n",
            "The answer from the model  : mara thompson 4 october 1961\n",
            "The ground-truth answer    : 4 october 1961\n",
            "\n",
            "The model output is Correct!\n"
          ]
        }
      ],
      "source": [
        "#----------------------------------------\n",
        "# Ex1: QA function with correct output\n",
        "#----------------------------------------\n",
        "question_text = \"What was mara thompson's birth date?\"\n",
        "ground_truth = DB['mara thompson']['birth_date']\n",
        "concatenate = trimmed_DB[name_to_index['mara thompson']] + trimmed_DB[name_to_index['betty montgomery']] + trimmed_DB[name_to_index['william hague']]\n",
        "\n",
        "keys = [multihot(item[1], reduced_VOCAB) for item in concatenate]\n",
        "values = [multihot(item[2], reduced_VOCAB) for item in concatenate]\n",
        "\n",
        "print(f\"The question               : {question_text}\")\n",
        "answer = QA(model, question_text, keys, values, concatenate, device)\n",
        "print(f\"The answer from the model  : {answer}\")\n",
        "\n",
        "# Double-check the correct answer in DB\n",
        "print(f\"The ground-truth answer    : {ground_truth}\")\n",
        "\n",
        "res = 'Correct' if ground_truth in answer else 'Incorrect'\n",
        "print()\n",
        "print(f\"The model output is {res}!\")"
      ]
    },
    {
      "cell_type": "code",
      "execution_count": 35,
      "metadata": {
        "colab": {
          "base_uri": "https://localhost:8080/"
        },
        "id": "-24dHfNumQJS",
        "outputId": "76ffbd11-e6cd-4fa9-ead7-87754c45c5a3"
      },
      "outputs": [
        {
          "output_type": "stream",
          "name": "stdout",
          "text": [
            "The question               : What was heinrich albertz's death date?\n",
            "The answer from the model  : heinrich albert 1 november 1960\n",
            "The ground-truth answer    : 18 may 1993\n",
            "\n",
            "The model output is Incorrect!\n"
          ]
        }
      ],
      "source": [
        "#----------------------------------------\n",
        "# Ex2: QA function with incorrect output\n",
        "#----------------------------------------\n",
        "question_text = \"What was heinrich albertz's death date?\"\n",
        "ground_truth = DB['heinrich albertz']['death_date']\n",
        "concatenate = trimmed_DB[name_to_index['harry holgate']] + trimmed_DB[name_to_index['heinrich albert']] + trimmed_DB[name_to_index['heinrich albertz']]\n",
        "\n",
        "keys = [multihot(item[1], reduced_VOCAB) for item in concatenate]\n",
        "values = [multihot(item[2], reduced_VOCAB) for item in concatenate]\n",
        "\n",
        "print(f\"The question               : {question_text}\")\n",
        "answer = QA(model, question_text, keys, values, concatenate, device)\n",
        "print(f\"The answer from the model  : {answer}\")\n",
        "\n",
        "# Double-check the correct answer in DB\n",
        "print(f\"The ground-truth answer    : {ground_truth}\")\n",
        "\n",
        "res = 'Correct' if ground_truth in answer else 'Incorrect'\n",
        "print()\n",
        "print(f\"The model output is {res}!\")"
      ]
    },
    {
      "cell_type": "markdown",
      "metadata": {
        "id": "2qNTavFivdGm"
      },
      "source": [
        "**Ex1**: The plausible candidates for the question have **distinct names**, and the question contains the keyword ***birth date*** for the target key-value pair. These factors help the model yield the correct result.\n",
        "\n",
        "**Ex2**: It has two **similar names**. Even though the question also includes the keyword ***death date***, the high similarity between **\"heinrich albert\"** and **\"heinrich albertz\"** confuses the model and hence leads to the incorrect answer."
      ]
    },
    {
      "cell_type": "code",
      "execution_count": 36,
      "metadata": {
        "colab": {
          "base_uri": "https://localhost:8080/"
        },
        "id": "z4LlpLuCoKr5",
        "outputId": "9cd1e78d-9a73-4061-f0dd-41b8064239a9"
      },
      "outputs": [
        {
          "output_type": "stream",
          "name": "stdout",
          "text": [
            "The question               : What was jon tester's birth date?\n",
            "The answer from the model  : jon tester 21 august 1956\n",
            "The ground-truth answer    : 21 august 1956\n",
            "\n",
            "The model output is Correct!\n"
          ]
        }
      ],
      "source": [
        "#----------------------------------------\n",
        "# Ex3: QA function with correct output\n",
        "#----------------------------------------\n",
        "\n",
        "question_text = \"What was jon tester's birth date?\"\n",
        "ground_truth = DB['jon tester']['birth_date']\n",
        "concatenate = trimmed_DB[name_to_index['jon tester']] + trimmed_DB[name_to_index['ana botella']] + trimmed_DB[name_to_index['james seddon']]\n",
        "\n",
        "keys = [multihot(item[1], reduced_VOCAB) for item in concatenate]\n",
        "values = [multihot(item[2], reduced_VOCAB) for item in concatenate]\n",
        "\n",
        "print(f\"The question               : {question_text}\")\n",
        "answer = QA(model, question_text, keys, values, concatenate, device)\n",
        "print(f\"The answer from the model  : {answer}\")\n",
        "\n",
        "# Double-check the correct answer in DB\n",
        "print(f\"The ground-truth answer    : {ground_truth}\")\n",
        "\n",
        "res = 'Correct' if ground_truth in answer else 'Incorrect'\n",
        "print()\n",
        "print(f\"The model output is {res}!\")"
      ]
    },
    {
      "cell_type": "code",
      "execution_count": 37,
      "metadata": {
        "colab": {
          "base_uri": "https://localhost:8080/"
        },
        "id": "oNYEEWmly3MS",
        "outputId": "894f6eb3-9371-4076-e27f-22cba0a7313d"
      },
      "outputs": [
        {
          "output_type": "stream",
          "name": "stdout",
          "text": [
            "The question               : When was jon tester born?\n",
            "The answer from the model  : jon tester congregationalism\n",
            "The ground-truth answer    : 21 august 1956\n",
            "\n",
            "The model output is Incorrect!\n"
          ]
        }
      ],
      "source": [
        "#----------------------------------------\n",
        "# Ex4: QA function with incorrect output\n",
        "#----------------------------------------\n",
        "\n",
        "question_text = \"When was jon tester born?\"\n",
        "ground_truth = DB['jon tester']['birth_date']\n",
        "concatenate = trimmed_DB[name_to_index['jon tester']] + trimmed_DB[name_to_index['ana botella']] + trimmed_DB[name_to_index['james seddon']]\n",
        "\n",
        "keys = [multihot(item[1], reduced_VOCAB) for item in concatenate]\n",
        "values = [multihot(item[2], reduced_VOCAB) for item in concatenate]\n",
        "\n",
        "print(f\"The question               : {question_text}\")\n",
        "answer = QA(model, question_text, keys, values, concatenate, device)\n",
        "print(f\"The answer from the model  : {answer}\")\n",
        "\n",
        "# Double-check the correct answer in DB\n",
        "print(f\"The ground-truth answer    : {ground_truth}\")\n",
        "\n",
        "res = 'Correct' if ground_truth in answer else 'Incorrect'\n",
        "print()\n",
        "print(f\"The model output is {res}!\")"
      ]
    },
    {
      "cell_type": "markdown",
      "source": [
        "**Ex3** and **Ex4**: They use the same candidates and similar questions, but different phrasings.\n",
        "\n",
        "**Ex3** uses the keyword ***birth date*** and yields the correct result.\n",
        "\n",
        "**Ex4** uses ***born*** instead of ***birth date***, which is natural in real-world question-answering scenarios. However, the model lacks semantic understanding and cannot associate ***birth date*** and ***born*** as related terms. As a result, it outputs the incorrect answer."
      ],
      "metadata": {
        "id": "PDwuZPG-AlzD"
      }
    },
    {
      "cell_type": "code",
      "execution_count": 38,
      "metadata": {
        "colab": {
          "base_uri": "https://localhost:8080/"
        },
        "id": "fSqTZ0RoyXvX",
        "outputId": "2b08add2-16af-4b3b-a22d-7ea36b6a10c3"
      },
      "outputs": [
        {
          "output_type": "stream",
          "name": "stdout",
          "text": [
            "The question               : What was jon tester's religion?\n",
            "The answer from the model  : jon tester congregationalism\n",
            "The ground-truth answer    : congregationalism\n",
            "\n",
            "The model output is Correct!\n"
          ]
        }
      ],
      "source": [
        "#----------------------------------------\n",
        "# Ex5: QA function with correct output\n",
        "#----------------------------------------\n",
        "\n",
        "question_text = \"What was jon tester's religion?\"\n",
        "ground_truth = DB['jon tester']['religion']\n",
        "concatenate = trimmed_DB[name_to_index['jon tester']] + trimmed_DB[name_to_index['ana botella']] + trimmed_DB[name_to_index['james seddon']]\n",
        "\n",
        "keys = [multihot(item[1], reduced_VOCAB) for item in concatenate]\n",
        "values = [multihot(item[2], reduced_VOCAB) for item in concatenate]\n",
        "\n",
        "print(f\"The question               : {question_text}\")\n",
        "answer = QA(model, question_text, keys, values, concatenate, device)\n",
        "print(f\"The answer from the model  : {answer}\")\n",
        "\n",
        "# Double-check the correct answer in DB\n",
        "print(f\"The ground-truth answer    : {ground_truth}\")\n",
        "\n",
        "res = 'Correct' if ground_truth in answer else 'Incorrect'\n",
        "print()\n",
        "print(f\"The model output is {res}!\")\n"
      ]
    },
    {
      "cell_type": "code",
      "execution_count": 39,
      "metadata": {
        "colab": {
          "base_uri": "https://localhost:8080/"
        },
        "id": "NDpvjkyzqUIP",
        "outputId": "59c87446-c547-42de-a293-c7a60bdc2303"
      },
      "outputs": [
        {
          "output_type": "stream",
          "name": "stdout",
          "text": [
            "The question               : What was manser marmion's religion?\n",
            "The answer from the model  : ana botella roman catholic\n",
            "The ground-truth answer    : Not exist\n",
            "\n",
            "The model output is Incorrect!\n"
          ]
        }
      ],
      "source": [
        "#----------------------------------------\n",
        "# Ex6: QA function with incorrect output\n",
        "#----------------------------------------\n",
        "\n",
        "question_text = \"What was manser marmion's religion?\"\n",
        "if 'religion' in DB['manser marmion']:\n",
        "    ground_truth = DB['manser marmion']['religion']\n",
        "else:\n",
        "    ground_truth = 'Not exist'\n",
        "concatenate = trimmed_DB[name_to_index['jon tester']] + trimmed_DB[name_to_index['ana botella']] + trimmed_DB[name_to_index['manser marmion']]\n",
        "\n",
        "keys = [multihot(item[1], reduced_VOCAB) for item in concatenate]\n",
        "values = [multihot(item[2], reduced_VOCAB) for item in concatenate]\n",
        "\n",
        "print(f\"The question               : {question_text}\")\n",
        "answer = QA(model, question_text, keys, values, concatenate, device)\n",
        "print(f\"The answer from the model  : {answer}\")\n",
        "\n",
        "# Double-check the correct answer in DB\n",
        "print(f\"The ground-truth answer    : {ground_truth}\")\n",
        "\n",
        "res = 'Correct' if ground_truth in answer else 'Incorrect'\n",
        "print()\n",
        "print(f\"The model output is {res}!\")"
      ]
    },
    {
      "cell_type": "markdown",
      "source": [
        "**Ex5** and **Ex6**: Their questions use the same keyword ***religion***, but the candidate contents are slightly different.\n",
        "\n",
        "**Ex5** has valid values for the keyword across all candidates.\n",
        "\n",
        "**Ex6** has one candidate (which is also the queried entity) that lacks a key-value pair for the keyword. Since the model has no mechanism to handle missing data, it returns an incorrect answer."
      ],
      "metadata": {
        "id": "8gn7L2J4ApD1"
      }
    },
    {
      "cell_type": "markdown",
      "source": [
        "# Step 6: GloVe Embedding\n",
        "\n",
        "GloVe embeddings (also referred to as **embeddings** in the remainder of this project) assign a unique vector representation to each word based on its co-occurrence statistics in a large corpus. Words that appear in similar contexts will have similar embeddings, capturing semantic similarity. This step investigates whether these semantic relationships can help the model improve its performance and solve the incorrect cases **Ex2** and **Ex4** in Step 4 more effectively."
      ],
      "metadata": {
        "id": "EXhF9thYD8-V"
      }
    },
    {
      "cell_type": "code",
      "source": [
        "!wget http://nlp.stanford.edu/data/glove.6B.zip\n",
        "!unzip glove.6B.zip"
      ],
      "metadata": {
        "colab": {
          "base_uri": "https://localhost:8080/"
        },
        "id": "RgIANC4TR6VZ",
        "outputId": "67bc2b5a-3caf-4672-9594-6bf8ffb79f7f"
      },
      "execution_count": 40,
      "outputs": [
        {
          "output_type": "stream",
          "name": "stdout",
          "text": [
            "--2025-08-10 22:40:24--  http://nlp.stanford.edu/data/glove.6B.zip\n",
            "Resolving nlp.stanford.edu (nlp.stanford.edu)... 171.64.67.140\n",
            "Connecting to nlp.stanford.edu (nlp.stanford.edu)|171.64.67.140|:80... connected.\n",
            "HTTP request sent, awaiting response... 302 Found\n",
            "Location: https://nlp.stanford.edu/data/glove.6B.zip [following]\n",
            "--2025-08-10 22:40:24--  https://nlp.stanford.edu/data/glove.6B.zip\n",
            "Connecting to nlp.stanford.edu (nlp.stanford.edu)|171.64.67.140|:443... connected.\n",
            "HTTP request sent, awaiting response... 301 Moved Permanently\n",
            "Location: https://downloads.cs.stanford.edu/nlp/data/glove.6B.zip [following]\n",
            "--2025-08-10 22:40:24--  https://downloads.cs.stanford.edu/nlp/data/glove.6B.zip\n",
            "Resolving downloads.cs.stanford.edu (downloads.cs.stanford.edu)... 171.64.64.22\n",
            "Connecting to downloads.cs.stanford.edu (downloads.cs.stanford.edu)|171.64.64.22|:443... connected.\n",
            "HTTP request sent, awaiting response... 200 OK\n",
            "Length: 862182613 (822M) [application/zip]\n",
            "Saving to: ‘glove.6B.zip’\n",
            "\n",
            "glove.6B.zip        100%[===================>] 822.24M  3.31MB/s    in 2m 41s  \n",
            "\n",
            "2025-08-10 22:43:06 (5.09 MB/s) - ‘glove.6B.zip’ saved [862182613/862182613]\n",
            "\n",
            "Archive:  glove.6B.zip\n",
            "  inflating: glove.6B.50d.txt        \n",
            "  inflating: glove.6B.100d.txt       \n",
            "  inflating: glove.6B.200d.txt       \n",
            "  inflating: glove.6B.300d.txt       \n"
          ]
        }
      ]
    },
    {
      "cell_type": "code",
      "source": [
        "def load_glove_embeddings(glove_path):\n",
        "    glove = {}\n",
        "    with open(glove_path, 'r', encoding='utf-8') as f:\n",
        "        for line in f:\n",
        "            parts = line.strip().split()\n",
        "            word = parts[0]\n",
        "            vector = torch.tensor([float(x) for x in parts[1:]], dtype=torch.float32)\n",
        "            glove[word] = vector\n",
        "    return glove"
      ],
      "metadata": {
        "id": "4Jm6OQ1dHiB5"
      },
      "execution_count": 41,
      "outputs": []
    },
    {
      "cell_type": "code",
      "source": [
        "def create_embedding_matrix(vocab, glove, embed_dim):\n",
        "    matrix = torch.randn(vocab.num_words(), embed_dim)  # Random init\n",
        "    for word in vocab.get_words():\n",
        "        idx = vocab.word2index(word)\n",
        "        if word in glove:\n",
        "            matrix[idx] = glove[word]\n",
        "    return matrix"
      ],
      "metadata": {
        "id": "tkQ9QjJkHmNq"
      },
      "execution_count": 42,
      "outputs": []
    },
    {
      "cell_type": "markdown",
      "source": [
        "### The similarity between ***birth*** and ***born*** is 0.5217, which indicates a moderate semantic similarity."
      ],
      "metadata": {
        "id": "Rx6vPDG5hhhz"
      }
    },
    {
      "cell_type": "code",
      "source": [
        "glove_path = \"glove.6B.100d.txt\"\n",
        "glove_dict = load_glove_embeddings(glove_path)\n",
        "word1, word2 = 'birth', 'born'\n",
        "vec1, vec2 = glove_dict[word1], glove_dict[word2]\n",
        "\n",
        "sim = F.cosine_similarity(vec1.unsqueeze(0), vec2.unsqueeze(0)).item()\n",
        "print(f\"Similarity ({word1} vs {word2}): {sim:.4f}\")"
      ],
      "metadata": {
        "colab": {
          "base_uri": "https://localhost:8080/"
        },
        "id": "9wT4kvRcF279",
        "outputId": "67831156-89bd-462e-ce10-eb5757d022a2"
      },
      "execution_count": 43,
      "outputs": [
        {
          "output_type": "stream",
          "name": "stdout",
          "text": [
            "Similarity (birth vs born): 0.5217\n"
          ]
        }
      ]
    },
    {
      "cell_type": "markdown",
      "source": [
        "## Modify Key-Value Memory Network for GloVe"
      ],
      "metadata": {
        "id": "Bh0dxSs4eTFb"
      }
    },
    {
      "cell_type": "code",
      "source": [
        "'''\n",
        "KVMemNet_Embedding model is defined in private_models.PrivateModels for this project.\n",
        "The implementation is hidden for academic integrity.\n",
        "'''\n",
        "KVMemNet_Embedding = PrivateModels.KVMemNet_Embedding"
      ],
      "metadata": {
        "id": "PUxF4rLG8Z6Q"
      },
      "execution_count": 44,
      "outputs": []
    },
    {
      "cell_type": "code",
      "source": [
        "# Set up Key-Value Memory Network\n",
        "glove_path = \"glove.6B.100d.txt\"\n",
        "freeze_embeddings = False  # fine-tune GloVe\n",
        "vocab_size = reduced_VOCAB.num_words()\n",
        "embed_size = 100\n",
        "learning_rate = 0.01\n",
        "num_epochs = 15\n",
        "\n",
        "# Load GloVe\n",
        "glove_dict = load_glove_embeddings(glove_path)\n",
        "\n",
        "# Create embedding matrix\n",
        "embedding_matrix = create_embedding_matrix(reduced_VOCAB, glove_dict, embed_size)\n",
        "\n",
        "model_embed = KVMemNet_Embedding(vocab_size=vocab_size, embed_dim=embed_size, embedding_matrix=embedding_matrix, freeze=freeze_embeddings).to(device)\n",
        "optimizer_embed = optim.Adam(model_embed.parameters(), lr=learning_rate)\n",
        "criterion_embed = nn.CrossEntropyLoss()"
      ],
      "metadata": {
        "id": "238KhKA0Edj5"
      },
      "execution_count": 45,
      "outputs": []
    },
    {
      "cell_type": "code",
      "source": [
        "# Training\n",
        "def train_KVMemNet_Embedding(model_embed, optimizer_embed, criterion_embed, train_data, num_epochs, device):\n",
        "    model_embed.train()\n",
        "\n",
        "    epoch_losses = []\n",
        "    epoch_accuracies = []\n",
        "    epoch_times = []\n",
        "    for epoch in range(num_epochs):\n",
        "        start_time = time.time()\n",
        "        losses = []\n",
        "        correct_pred = 0\n",
        "        total_sample = 0\n",
        "        random.seed(epoch)\n",
        "\n",
        "        for people_index in range(len(train_data)):\n",
        "            batch_data = train_data[people_index]\n",
        "\n",
        "            # Add random data\n",
        "            random_person_1 = train_data[random.randint(0, len(train_data) - 1)]\n",
        "            random_person_2 = train_data[random.randint(0, len(train_data) - 1)]\n",
        "            concatenate = batch_data + random_person_1 + random_person_2\n",
        "\n",
        "            # Convert words to index tensors for keys/values\n",
        "            keys = [torch.tensor([reduced_VOCAB.word2index(w) for w in item[1]], dtype=torch.long) for item in concatenate]\n",
        "            values = [torch.tensor([reduced_VOCAB.word2index(w) for w in item[2]], dtype=torch.long) for item in concatenate]\n",
        "\n",
        "            # Pad sequences to same length, result shape: [1, N, max_len]\n",
        "            keys = pad_sequence(keys, batch_first=True).unsqueeze(0).to(device)\n",
        "            values = pad_sequence(values, batch_first=True).unsqueeze(0).to(device)\n",
        "\n",
        "            y_embed = model_embed.embedding_B(values.clone()).mean(dim=2).squeeze(0).detach()\n",
        "\n",
        "            for relation_index in range(len(batch_data)):\n",
        "                question = torch.tensor([reduced_VOCAB.word2index(w) for w in batch_data[relation_index][1]], dtype=torch.long).unsqueeze(0).to(device)\n",
        "\n",
        "                output = model_embed(question, keys, values).squeeze(0)\n",
        "                attention_score = torch.nn.functional.softmax(torch.inner(y_embed, output), dim=0)\n",
        "\n",
        "                target_index = relation_index\n",
        "                predicted_index = torch.argmax(attention_score).item()\n",
        "\n",
        "                # Compute loss\n",
        "                target_tensor = torch.tensor([target_index], dtype=torch.long).to(device)\n",
        "                loss = criterion_embed(attention_score.unsqueeze(0), target_tensor)\n",
        "                losses.append(loss)\n",
        "\n",
        "                # Backprop & optimize\n",
        "                optimizer_embed.zero_grad()\n",
        "                loss.backward()\n",
        "                optimizer_embed.step()\n",
        "\n",
        "                # Accuracy tracking\n",
        "                if predicted_index == target_index:\n",
        "                    correct_pred += 1\n",
        "                total_sample += 1\n",
        "\n",
        "        end_time = time.time()\n",
        "        epoch_time = end_time - start_time\n",
        "        epoch_times.append(epoch_time)\n",
        "        # Compute each epoch accuracy, loss & stack for loss plot\n",
        "        epoch_loss = torch.stack(losses).mean().item()\n",
        "        epoch_accuracy = correct_pred / total_sample\n",
        "        print(f\"Epoch {epoch+1}/{num_epochs} Loss: {epoch_loss:.4f}, Accuracy: {epoch_accuracy*100:.2f}%, Runtime: {epoch_time:.2f} seconds\")\n",
        "        epoch_losses.append(epoch_loss)\n",
        "        epoch_accuracies.append(epoch_accuracy)\n",
        "\n",
        "    print(f\"Average Accuracy over {num_epochs} Epochs: {sum(epoch_accuracies)/len(epoch_accuracies)*100:.2f}%\")\n",
        "    print(f\"Average runtime over {num_epochs} Epochs: {sum(epoch_times)/len(epoch_times):.2f}s\")\n",
        "\n",
        "    # Loss plot\n",
        "    plt.figure()\n",
        "    plt.clf()\n",
        "    plt.xlabel(\"Epoch\")\n",
        "    plt.ylabel(\"Loss\")\n",
        "    plt.title(f\"Training Loss over {num_epochs} Epochs\")\n",
        "    plt.plot(epoch_losses)\n",
        "    plt.grid()\n",
        "    plt.show()"
      ],
      "metadata": {
        "id": "4uUF1cgpTtZP"
      },
      "execution_count": 46,
      "outputs": []
    },
    {
      "cell_type": "code",
      "source": [
        "train_KVMemNet_Embedding(model_embed, optimizer_embed, criterion_embed, train_data, num_epochs, device)"
      ],
      "metadata": {
        "colab": {
          "base_uri": "https://localhost:8080/",
          "height": 761
        },
        "id": "322yShC_D_vI",
        "outputId": "e5312a21-a27a-4685-e674-7c118a21c6d6"
      },
      "execution_count": 47,
      "outputs": [
        {
          "output_type": "stream",
          "name": "stdout",
          "text": [
            "Epoch 1/15 Loss: 1.5822, Accuracy: 36.77%, Runtime: 52.16 seconds\n",
            "Epoch 2/15 Loss: 1.3970, Accuracy: 61.25%, Runtime: 53.10 seconds\n",
            "Epoch 3/15 Loss: 1.2746, Accuracy: 72.74%, Runtime: 51.84 seconds\n",
            "Epoch 4/15 Loss: 1.1910, Accuracy: 79.93%, Runtime: 49.84 seconds\n",
            "Epoch 5/15 Loss: 1.1342, Accuracy: 85.61%, Runtime: 50.03 seconds\n",
            "Epoch 6/15 Loss: 1.1034, Accuracy: 88.05%, Runtime: 52.14 seconds\n",
            "Epoch 7/15 Loss: 1.0919, Accuracy: 88.75%, Runtime: 51.62 seconds\n",
            "Epoch 8/15 Loss: 1.0812, Accuracy: 89.91%, Runtime: 52.09 seconds\n",
            "Epoch 9/15 Loss: 1.0525, Accuracy: 92.46%, Runtime: 49.95 seconds\n",
            "Epoch 10/15 Loss: 1.0672, Accuracy: 92.34%, Runtime: 50.81 seconds\n",
            "Epoch 11/15 Loss: 1.0541, Accuracy: 92.11%, Runtime: 52.04 seconds\n",
            "Epoch 12/15 Loss: 1.0396, Accuracy: 94.08%, Runtime: 49.92 seconds\n",
            "Epoch 13/15 Loss: 1.0247, Accuracy: 94.66%, Runtime: 51.01 seconds\n",
            "Epoch 14/15 Loss: 1.0247, Accuracy: 94.32%, Runtime: 54.90 seconds\n",
            "Epoch 15/15 Loss: 1.0231, Accuracy: 95.94%, Runtime: 55.88 seconds\n",
            "Average Accuracy over 15 Epochs: 83.93%\n",
            "Average runtime over 15 Epochs: 51.82s\n"
          ]
        },
        {
          "output_type": "display_data",
          "data": {
            "text/plain": [
              "<Figure size 640x480 with 1 Axes>"
            ],
            "image/png": "[encoded data removed]"
          },
          "metadata": {}
        }
      ]
    },
    {
      "cell_type": "code",
      "source": [
        "# Testing\n",
        "def test_KVMemNet_Embedding(model_embed, test_data, device):\n",
        "    model_embed.eval()\n",
        "\n",
        "    correct_pred = 0\n",
        "    total_sample = 0\n",
        "    random.seed(100)\n",
        "\n",
        "    for people_index in range(len(test_data)):\n",
        "        batch_data = test_data[people_index]\n",
        "\n",
        "        # Add random data\n",
        "        random_person_1 = test_data[random.randint(0, len(test_data) - 1)]\n",
        "        random_person_2 = test_data[random.randint(0, len(test_data) - 1)]\n",
        "        concatenate = batch_data + random_person_1 + random_person_2\n",
        "\n",
        "        # Convert words to index tensors for keys/values\n",
        "        keys = [torch.tensor([reduced_VOCAB.word2index(w) for w in item[1]], dtype=torch.long) for item in concatenate]\n",
        "        values = [torch.tensor([reduced_VOCAB.word2index(w) for w in item[2]], dtype=torch.long) for item in concatenate]\n",
        "\n",
        "        # Pad sequences to same length, result shape: [1, N, max_len]\n",
        "        keys = pad_sequence(keys, batch_first=True).unsqueeze(0).to(device)\n",
        "        values = pad_sequence(values, batch_first=True).unsqueeze(0).to(device)\n",
        "\n",
        "        with torch.no_grad():\n",
        "            y_embed = model_embed.embedding_B(values.clone()).mean(dim=2).squeeze(0).detach()\n",
        "\n",
        "            for relation_index in range(len(batch_data)):\n",
        "                question = torch.tensor([reduced_VOCAB.word2index(w) for w in batch_data[relation_index][1]], dtype=torch.long).unsqueeze(0).to(device)\n",
        "\n",
        "                output = model_embed(question, keys, values).squeeze(0)\n",
        "                attention_score = torch.nn.functional.softmax(torch.inner(y_embed, output), dim=0)\n",
        "\n",
        "                target_index = relation_index\n",
        "                predicted_index = torch.argmax(attention_score).item()\n",
        "\n",
        "                # Accuracy tracking\n",
        "                if predicted_index == target_index:\n",
        "                    correct_pred += 1\n",
        "                total_sample += 1\n",
        "\n",
        "    # Test Accuracy\n",
        "    accuracy = correct_pred / total_sample\n",
        "    print(f\"Test Accuracy: {accuracy*100:.2f}%\")\n",
        "    return accuracy*100"
      ],
      "metadata": {
        "id": "Qgsoq1OXuQ_y"
      },
      "execution_count": 48,
      "outputs": []
    },
    {
      "cell_type": "code",
      "source": [
        "acc_embedding = test_KVMemNet_Embedding(model_embed, test_data, device)"
      ],
      "metadata": {
        "colab": {
          "base_uri": "https://localhost:8080/"
        },
        "id": "upchnnCdwJvi",
        "outputId": "28af38b9-592d-4bf8-e586-8a45020f2172"
      },
      "execution_count": 49,
      "outputs": [
        {
          "output_type": "stream",
          "name": "stdout",
          "text": [
            "Test Accuracy: 93.49%\n"
          ]
        }
      ]
    },
    {
      "cell_type": "code",
      "source": [
        "# Save trained model_embed to Google Drive\n",
        "# https://docs.pytorch.org/tutorials/beginner/basics/saveloadrun_tutorial.html\n",
        "torch.save(model_embed.state_dict(), \"/content/drive/MyDrive/NLP/KVMemNet_embed.pth\")"
      ],
      "metadata": {
        "id": "t0g4Jd7zcv6j"
      },
      "execution_count": 50,
      "outputs": []
    },
    {
      "cell_type": "markdown",
      "source": [
        "# Step 7: Evaluate Model Results with QA Function - Embedding\n",
        "\n",
        "This step runs the training loop for the embedding-based model, following the same structure as **Step 5** but replacing the multihot representation with GloVe embeddings."
      ],
      "metadata": {
        "id": "0F6e2IDNMNVc"
      }
    },
    {
      "cell_type": "code",
      "source": [
        "# Load trained model_embed from Google Drive\n",
        "model_embed.load_state_dict(torch.load(\"/content/drive/MyDrive/NLP/KVMemNet_embed.pth\", map_location=device))"
      ],
      "metadata": {
        "id": "9yBbTF2Ocy5r",
        "colab": {
          "base_uri": "https://localhost:8080/"
        },
        "outputId": "504c39ab-1f6a-420f-9819-2b7559f6d41e"
      },
      "execution_count": 51,
      "outputs": [
        {
          "output_type": "execute_result",
          "data": {
            "text/plain": [
              "<All keys matched successfully>"
            ]
          },
          "metadata": {},
          "execution_count": 51
        }
      ]
    },
    {
      "cell_type": "code",
      "source": [
        "# Create the Question–Answer (QA) function — for Embedding (GloVe)\n",
        "def clean_question(q):\n",
        "    # Lowercase\n",
        "    q = q.lower()\n",
        "    # Replace possessives (e.g., \"mara thompson's\" → \"mara thompson\")\n",
        "    q = re.sub(r\"'s\\b\", \"\", q)\n",
        "    # Remove punctuation\n",
        "    q = re.sub(r\"[^a-z0-9\\s]\", \"\", q)\n",
        "    # Tokenize\n",
        "    return q.strip().split()\n",
        "\n",
        "def QA_Embedding(model_embed, question_text, concatenated, device):\n",
        "    model_embed.eval()\n",
        "\n",
        "    # Tokenize question if needed\n",
        "    if isinstance(question_text, str):\n",
        "        #question_text = question_text.lower().split()\n",
        "        question_text = clean_question(question_text)\n",
        "\n",
        "    # Convert question to indices\n",
        "    question_indices = [reduced_VOCAB.word2index(w) for w in question_text]\n",
        "    question_tensor = torch.tensor(question_indices, dtype=torch.long).unsqueeze(0).to(device)  # [1, q_len]\n",
        "\n",
        "    # Extract keys and values from concatenated\n",
        "    keys = [item[1] for item in concatenated]\n",
        "    values = [item[2] for item in concatenated]\n",
        "\n",
        "    keys_indices = [torch.tensor([reduced_VOCAB.word2index(w) for w in k], dtype=torch.long) for k in keys]\n",
        "    values_indices = [torch.tensor([reduced_VOCAB.word2index(w) for w in v], dtype=torch.long) for v in values]\n",
        "\n",
        "    keys_tensor = pad_sequence(keys_indices, batch_first=True).unsqueeze(0).to(device)     # [1, N, max_len]\n",
        "    values_tensor = pad_sequence(values_indices, batch_first=True).unsqueeze(0).to(device) # [1, N, max_len]\n",
        "\n",
        "    with torch.no_grad():\n",
        "        # Compute average value embeddings\n",
        "        y_embed = model_embed.embedding_B(values_tensor.clone()).mean(dim=2).squeeze(0)  # [N, embed_dim]\n",
        "\n",
        "        # Compute model output vector\n",
        "        output = model_embed(question_tensor, keys_tensor, values_tensor).squeeze(0)  # [embed_dim]\n",
        "\n",
        "        # Compute attention and select answer\n",
        "        attention_score = torch.nn.functional.softmax(torch.inner(y_embed, output), dim=0)\n",
        "        predicted_index = torch.argmax(attention_score).item()\n",
        "\n",
        "    return concatenated[predicted_index][2]"
      ],
      "metadata": {
        "id": "WEVvGlNbw0qn"
      },
      "execution_count": 52,
      "outputs": []
    },
    {
      "cell_type": "markdown",
      "source": [
        "## **Analyses**: Evaluate embedding on cases of **Ex1** to **Ex4** in **Step 4**, which correspond to **Ex7** to **Ex10** in this section.\n",
        "\n",
        "For example, **Ex7** evaluates the embedding method using the same question and key–value pairs as in **Ex1**.\n",
        "\n",
        "**Ex8** does the same for **Ex2**, and so on for the remaining examples."
      ],
      "metadata": {
        "id": "o878R-EPHfZR"
      }
    },
    {
      "cell_type": "code",
      "source": [
        "#--------------------------------------------\n",
        "# Ex7: QA function with correct output (Embedding)\n",
        "#--------------------------------------------\n",
        "question_text = \"What was mara thompson's birth date?\"\n",
        "ground_truth = DB['mara thompson']['birth_date']\n",
        "concatenate = trimmed_DB[name_to_index['mara thompson']] + trimmed_DB[name_to_index['betty montgomery']] + trimmed_DB[name_to_index['william hague']]\n",
        "\n",
        "# Convert keys and values into list of word index sequences\n",
        "keys = [item[1] for item in concatenate]      # list of word lists (key sentences)\n",
        "values = [item[2] for item in concatenate]    # list of word lists (value sentences)\n",
        "\n",
        "# Print question\n",
        "print(f\"The question             : {question_text}\")\n",
        "\n",
        "# Run QA model\n",
        "answer = QA_Embedding(model_embed, question_text, concatenate, device)\n",
        "print(f\"The answer from the model: {answer}\")\n",
        "\n",
        "# Ground truth\n",
        "print(f\"The ground-truth answer  : {ground_truth}\")\n",
        "\n",
        "# Accuracy check\n",
        "res = 'Correct' if ground_truth in answer else 'Incorrect'\n",
        "print()\n",
        "print(f\"The model output is {res}!\")"
      ],
      "metadata": {
        "colab": {
          "base_uri": "https://localhost:8080/"
        },
        "id": "inZbpCZHwmsg",
        "outputId": "1d66531a-7492-48b8-b4b1-a38ba86cb9db"
      },
      "execution_count": 53,
      "outputs": [
        {
          "output_type": "stream",
          "name": "stdout",
          "text": [
            "The question             : What was mara thompson's birth date?\n",
            "The answer from the model: mara thompson 4 october 1961\n",
            "The ground-truth answer  : 4 october 1961\n",
            "\n",
            "The model output is Correct!\n"
          ]
        }
      ]
    },
    {
      "cell_type": "code",
      "source": [
        "#--------------------------------------------\n",
        "# Ex8: QA function with incorrect output (Embedding)\n",
        "#--------------------------------------------\n",
        "question_text =  \"What was heinrich albertz's death date?\"\n",
        "ground_truth = DB['heinrich albertz']['death_date']\n",
        "concatenate = trimmed_DB[name_to_index['harry holgate']] + trimmed_DB[name_to_index['heinrich albert']] + trimmed_DB[name_to_index['heinrich albertz']]\n",
        "\n",
        "# Convert keys and values to list of word index sequences\n",
        "keys = [item[1] for item in concatenate]\n",
        "values = [item[2] for item in concatenate]\n",
        "\n",
        "# Print question\n",
        "print(f\"The question             : {question_text}\")\n",
        "\n",
        "# Run QA model\n",
        "answer = QA_Embedding(model_embed, question_text, concatenate, device)\n",
        "print(f\"The answer from the model: {answer}\")\n",
        "\n",
        "# Ground truth\n",
        "print(f\"The ground-truth answer  : {ground_truth}\")\n",
        "\n",
        "# Accuracy check\n",
        "res = 'Correct' if ground_truth in answer else 'Incorrect'\n",
        "print()\n",
        "print(f\"The model output is {res}!\")"
      ],
      "metadata": {
        "colab": {
          "base_uri": "https://localhost:8080/"
        },
        "id": "QfKbVyGXxt7J",
        "outputId": "f0bd41a2-9a75-4a73-e2fb-cd29de530e59"
      },
      "execution_count": 54,
      "outputs": [
        {
          "output_type": "stream",
          "name": "stdout",
          "text": [
            "The question             : What was heinrich albertz's death date?\n",
            "The answer from the model: heinrich albert 12 february 1874\n",
            "The ground-truth answer  : 18 may 1993\n",
            "\n",
            "The model output is Incorrect!\n"
          ]
        }
      ]
    },
    {
      "cell_type": "markdown",
      "source": [
        "For both **Ex7** (corresponding to **Ex1**) and **Ex8** (corresponding to **Ex2**), the embedding method produced identical results to the multihot baseline—correct for **Ex7** and incorrect for **Ex8**. This indicates that, in these cases, using embeddings did not improve model performance or resolve errors caused by name similarity."
      ],
      "metadata": {
        "id": "Yrp3MkBlGcRD"
      }
    },
    {
      "cell_type": "code",
      "source": [
        "#===========================================\n",
        "# Ex9: QA function with correct output (Embedding version)\n",
        "#===========================================\n",
        "question_text = \"What was jon tester's birth date?\"\n",
        "ground_truth = DB['jon tester']['birth_date']\n",
        "concatenate = trimmed_DB[name_to_index['jon tester']] + trimmed_DB[name_to_index['ana botella']] + trimmed_DB[name_to_index['james seddon']]\n",
        "\n",
        "# Convert keys and values to list of word index sequences\n",
        "keys = [item[1] for item in concatenate]\n",
        "values = [item[2] for item in concatenate]\n",
        "\n",
        "# Print question\n",
        "print(f\"The question             : {question_text}\")\n",
        "\n",
        "# Run QA model\n",
        "answer = QA_Embedding(model_embed, question_text, concatenate, device)\n",
        "print(f\"The answer from the model: {answer}\")\n",
        "\n",
        "# Ground truth\n",
        "print(f\"The ground-truth answer  : {ground_truth}\")\n",
        "\n",
        "# Accuracy check\n",
        "res = 'Correct' if ground_truth in answer else 'Incorrect'\n",
        "print()\n",
        "print(f\"The model output is {res}!\")"
      ],
      "metadata": {
        "colab": {
          "base_uri": "https://localhost:8080/"
        },
        "id": "nbsk1xETymLq",
        "outputId": "305fde5c-ad47-4f70-fb5d-381969209401"
      },
      "execution_count": 55,
      "outputs": [
        {
          "output_type": "stream",
          "name": "stdout",
          "text": [
            "The question             : What was jon tester's birth date?\n",
            "The answer from the model: jon tester 21 august 1956\n",
            "The ground-truth answer  : 21 august 1956\n",
            "\n",
            "The model output is Correct!\n"
          ]
        }
      ]
    },
    {
      "cell_type": "code",
      "source": [
        "#===========================================\n",
        "# Ex10: QA function with correct output (Embedding version)\n",
        "#===========================================\n",
        "question_text = \"When was jon tester born?\"\n",
        "ground_truth = DB['jon tester']['birth_date']\n",
        "concatenate = trimmed_DB[name_to_index['jon tester']] + trimmed_DB[name_to_index['ana botella']] + trimmed_DB[name_to_index['james seddon']]\n",
        "\n",
        "# Convert keys and values to list of word index sequences\n",
        "keys = [item[1] for item in concatenate]\n",
        "values = [item[2] for item in concatenate]\n",
        "\n",
        "# Print question\n",
        "print(f\"The question             : {question_text}\")\n",
        "\n",
        "# Run QA model\n",
        "answer = QA_Embedding(model_embed, question_text, concatenate, device)\n",
        "print(f\"The answer from the model: {answer}\")\n",
        "\n",
        "# Ground truth\n",
        "print(f\"The ground-truth answer  : {ground_truth}\")\n",
        "\n",
        "# Accuracy check\n",
        "res = 'Correct' if ground_truth in answer else 'Incorrect'\n",
        "print()\n",
        "print(f\"The model output is {res}!\")"
      ],
      "metadata": {
        "colab": {
          "base_uri": "https://localhost:8080/"
        },
        "id": "Fve-pcAky14I",
        "outputId": "1189d89d-e027-48ec-951a-311558946117"
      },
      "execution_count": 56,
      "outputs": [
        {
          "output_type": "stream",
          "name": "stdout",
          "text": [
            "The question             : When was jon tester born?\n",
            "The answer from the model: jon tester 21 august 1956\n",
            "The ground-truth answer  : 21 august 1956\n",
            "\n",
            "The model output is Correct!\n"
          ]
        }
      ]
    },
    {
      "cell_type": "markdown",
      "source": [
        "For **Ex9** (corresponding to **Ex3**) , the embedding method produced the same correct result as the multihot baseline.\n",
        "\n",
        "For **Ex10** (corresponding to **Ex4**), embeddings improved performance by producing the correct answer where the multihot method had previously failed. This suggests that GloVe embeddings provided useful semantic information that helped the model generalize better in this case, likely because the word vectors capture relationships between terms beyond exact keyword matches."
      ],
      "metadata": {
        "id": "V0zj98gqKITI"
      }
    },
    {
      "cell_type": "markdown",
      "source": [
        "# **Discussion**: Multihot vs. Embedding Performance"
      ],
      "metadata": {
        "id": "_PFs9FS5LO_i"
      }
    },
    {
      "cell_type": "code",
      "source": [
        "display(HTML(\n",
        "    f\"\"\"\n",
        "    <p style=\"font-size:16px; font-weight:400; line-height:1.35; margin:0.5rem 0;\">\n",
        "      The results indicate a substantial performance gap between the\n",
        "      <strong>multihot baseline</strong> ({acc_multihot:.2f}% test accuracy) and the\n",
        "      <strong>GloVe embedding</strong> method ({acc_embedding:.2f}% test accuracy).\n",
        "    </p>\n",
        "    \"\"\"\n",
        "))"
      ],
      "metadata": {
        "colab": {
          "base_uri": "https://localhost:8080/",
          "height": 54
        },
        "id": "NbJ_Sl05a2Xe",
        "outputId": "349b3bf1-9f29-42e4-b542-a1fabb7d8741"
      },
      "execution_count": 57,
      "outputs": [
        {
          "output_type": "display_data",
          "data": {
            "text/plain": [
              "<IPython.core.display.HTML object>"
            ],
            "text/html": [
              "\n",
              "    <p style=\"font-size:16px; font-weight:400; line-height:1.35; margin:0.5rem 0;\">\n",
              "      The results indicate a substantial performance gap between the\n",
              "      <strong>multihot baseline</strong> (73.37% test accuracy) and the\n",
              "      <strong>GloVe embedding</strong> method (93.49% test accuracy).\n",
              "    </p>\n",
              "    "
            ]
          },
          "metadata": {}
        }
      ]
    },
    {
      "cell_type": "markdown",
      "source": [
        "**GloVe embeddings** significantly improved accuracy with a moderate increase in training time. The **GloVe embedding model** achieved higher accuracy and stronger generalization. The **multihot baseline** is simpler and faster but less robust to distractors.\n",
        "\n",
        "The multihot representation encodes only the presence or absence of words in a high-dimensional sparse vector. While this approach is simple and computationally inexpensive, it lacks semantic understanding — each word is treated as independent, so it cannot recognize relationships between synonymous or related terms (e.g., ***birth date*** vs. ***born***).\n",
        "\n",
        "This limitation is clearly illustrated in **Ex4** and **Ex10**, where the multihot method failed because the query used ***born*** instead of ***birth date***, even though the underlying fact was the same. In contrast, the embedding model captured the semantic similarity between these terms, producing the correct answer.\n",
        "\n",
        "Similarly, in **name similarity*** cases like **Ex2** and **Ex8**, both methods failed, indicating that while embeddings improve semantic matching, they may still be challenged by near-identical entity names in the candidate set.\n",
        "\n",
        "Overall, embeddings outperform multihot by:"
      ],
      "metadata": {
        "id": "7gOTYt9eMvoQ"
      }
    },
    {
      "cell_type": "markdown",
      "source": [
        "1. Capturing semantic relationships between words.\n",
        "2. Reducing sparsity in the input representation.\n",
        "3. Providing a denser, lower-dimensional space for attention scoring."
      ],
      "metadata": {
        "id": "ODpQVmpVNdrU"
      }
    },
    {
      "cell_type": "markdown",
      "source": [
        "These advantages explain the higher accuracy and the ability to recover correct answers in scenarios where multihot fails."
      ],
      "metadata": {
        "id": "uCbd82DhNkUh"
      }
    }
  ],
  "metadata": {
    "colab": {
      "machine_shape": "hm",
      "provenance": []
    },
    "kernelspec": {
      "display_name": "Python 3",
      "name": "python3"
    },
    "language_info": {
      "name": "python"
    }
  },
  "nbformat": 4,
  "nbformat_minor": 0
}